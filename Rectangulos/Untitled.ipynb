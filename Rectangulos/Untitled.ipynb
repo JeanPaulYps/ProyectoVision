{
 "cells": [
  {
   "cell_type": "code",
   "execution_count": 3,
   "metadata": {},
   "outputs": [
    {
     "name": "stdout",
     "output_type": "stream",
     "text": [
      "[(104, 85, 173, 135)]\n",
      "[(104, 85, 173, 135), (335, 119, 400, 177)]\n"
     ]
    }
   ],
   "source": [
    "## Extraer datos de los rectangulos\n",
    "import re\n",
    "\n",
    "archivo = open('image1.xml','r')\n",
    "texto = archivo.read()\n",
    "\n",
    "patronCaja = re.compile('bndbox')\n",
    "resultados = patronCaja.finditer(texto)\n",
    "resultados = [_ for _ in resultados]\n",
    "\n",
    "contenedores = []\n",
    "\n",
    "while(resultados):\n",
    "    inicio = resultados.pop(0).span()[0]\n",
    "    fin = resultados.pop(0).span()[1]\n",
    "    contenedores.append((inicio, fin))\n",
    "\n",
    "\n",
    "rectangulos = []\n",
    "for contenedor in contenedores:\n",
    "    (inicio, fin) = contenedor\n",
    "    lugarDeBusqueda = texto[inicio:fin]\n",
    "    patronxmin = re.search(r'<xmin>\\d{1,}<\\/xmin>',lugarDeBusqueda)\n",
    "    patronxminNumero = re.search(r'\\d{1,}', patronxmin.group())\n",
    "    xmin = patronxminNumero.group()\n",
    "    patronymin = re.search(r'<ymin>\\d{1,}<\\/ymin>',lugarDeBusqueda)\n",
    "    patronyminNumero = re.search(r'\\d{1,}', patronymin.group())\n",
    "    ymin = patronyminNumero.group()\n",
    "    patronxmax = re.search(r'<xmax>\\d{1,}<\\/xmax>',lugarDeBusqueda)\n",
    "    patronxmaxNumero = re.search(r'\\d{1,}', patronxmax.group())\n",
    "    xmax = patronxmaxNumero.group()\n",
    "    patronymax = re.search(r'<ymax>\\d{1,}<\\/ymax>',lugarDeBusqueda)\n",
    "    patronymaxNumero = re.search(r'\\d{1,}', patronymax.group())\n",
    "    ymax = patronymaxNumero.group()\n",
    "    rectangulos.append( ( int(xmin), int(ymin), int(xmax), int(ymax) ) )\n",
    "\n",
    "\n",
    "    print(rectangulos)"
   ]
  },
  {
   "cell_type": "code",
   "execution_count": 4,
   "metadata": {},
   "outputs": [
    {
     "ename": "error",
     "evalue": "OpenCV(4.1.0) /io/opencv/modules/core/src/arithm.cpp:245: error: (-215:Assertion failed) (mtype == CV_8U || mtype == CV_8S) && _mask.sameSize(*psrc1) in function 'binary_op'\n",
     "output_type": "error",
     "traceback": [
      "\u001b[0;31m---------------------------------------------------------------------------\u001b[0m",
      "\u001b[0;31merror\u001b[0m                                     Traceback (most recent call last)",
      "\u001b[0;32m<ipython-input-4-373f61debeae>\u001b[0m in \u001b[0;36m<module>\u001b[0;34m\u001b[0m\n\u001b[1;32m     10\u001b[0m \u001b[0;34m\u001b[0m\u001b[0m\n\u001b[1;32m     11\u001b[0m \u001b[0mresultado\u001b[0m \u001b[0;34m=\u001b[0m \u001b[0mcv2\u001b[0m\u001b[0;34m.\u001b[0m\u001b[0mrectangle\u001b[0m\u001b[0;34m(\u001b[0m\u001b[0mimagen\u001b[0m\u001b[0;34m,\u001b[0m\u001b[0;34m(\u001b[0m\u001b[0mxmin\u001b[0m\u001b[0;34m,\u001b[0m\u001b[0mymin\u001b[0m\u001b[0;34m)\u001b[0m\u001b[0;34m,\u001b[0m\u001b[0;34m(\u001b[0m\u001b[0mxmax\u001b[0m\u001b[0;34m,\u001b[0m\u001b[0mymax\u001b[0m\u001b[0;34m)\u001b[0m\u001b[0;34m,\u001b[0m\u001b[0;34m(\u001b[0m\u001b[0;36m0\u001b[0m\u001b[0;34m,\u001b[0m\u001b[0;36m255\u001b[0m\u001b[0;34m,\u001b[0m\u001b[0;36m0\u001b[0m\u001b[0;34m)\u001b[0m\u001b[0;34m,\u001b[0m\u001b[0;36m3\u001b[0m\u001b[0;34m)\u001b[0m\u001b[0;34m\u001b[0m\u001b[0;34m\u001b[0m\u001b[0m\n\u001b[0;32m---> 12\u001b[0;31m \u001b[0mresultado2\u001b[0m \u001b[0;34m=\u001b[0m \u001b[0mcv2\u001b[0m\u001b[0;34m.\u001b[0m\u001b[0mbitwise_and\u001b[0m\u001b[0;34m(\u001b[0m\u001b[0mimagen\u001b[0m\u001b[0;34m,\u001b[0m \u001b[0mimagen\u001b[0m\u001b[0;34m,\u001b[0m \u001b[0mmask\u001b[0m\u001b[0;34m=\u001b[0m\u001b[0mimage\u001b[0m\u001b[0;34m)\u001b[0m\u001b[0;34m\u001b[0m\u001b[0;34m\u001b[0m\u001b[0m\n\u001b[0m\u001b[1;32m     13\u001b[0m \u001b[0;34m\u001b[0m\u001b[0m\n\u001b[1;32m     14\u001b[0m \u001b[0;34m\u001b[0m\u001b[0m\n",
      "\u001b[0;31merror\u001b[0m: OpenCV(4.1.0) /io/opencv/modules/core/src/arithm.cpp:245: error: (-215:Assertion failed) (mtype == CV_8U || mtype == CV_8S) && _mask.sameSize(*psrc1) in function 'binary_op'\n"
     ]
    }
   ],
   "source": [
    "%matplotlib inline\n",
    "import numpy as np\n",
    "import cv2\n",
    "from matplotlib import pyplot as plt\n",
    "from skimage.draw import rectangle\n",
    "\n",
    "xmin,ymin,xmax,ymax = rectangulos[0]\n",
    "imagen = cv2.imread(\"image1.png\")\n",
    "image = np.zeros(imagen.shape,dtype=np.uint8)\n",
    "\n",
    "resultado = cv2.rectangle(imagen,(xmin,ymin),(xmax,ymax),(0,255,0),3)\n",
    "resultado2 = cv2.bitwise_and(imagen, imagen, mask=image)\n",
    "\n",
    "\n",
    "fig, ax = plt.subplots(1,1, figsize=(5, 6))\n",
    "ax.set_title('Imagen')\n",
    "ax.imshow(resultado2, cmap='gray', vmin=0, vmax=1)\n"
   ]
  },
  {
   "cell_type": "code",
   "execution_count": null,
   "metadata": {},
   "outputs": [],
   "source": []
  }
 ],
 "metadata": {
  "kernelspec": {
   "display_name": "Python 3",
   "language": "python",
   "name": "python3"
  },
  "language_info": {
   "codemirror_mode": {
    "name": "ipython",
    "version": 3
   },
   "file_extension": ".py",
   "mimetype": "text/x-python",
   "name": "python",
   "nbconvert_exporter": "python",
   "pygments_lexer": "ipython3",
   "version": "3.7.3"
  }
 },
 "nbformat": 4,
 "nbformat_minor": 2
}
