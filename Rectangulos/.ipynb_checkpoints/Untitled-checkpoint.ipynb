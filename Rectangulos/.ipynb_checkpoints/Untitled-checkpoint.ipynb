{
 "cells": [
  {
   "cell_type": "code",
   "execution_count": 1,
   "metadata": {},
   "outputs": [
    {
     "name": "stdout",
     "output_type": "stream",
     "text": [
      "[('104', '85', '173', '135'), ('335', '119', '400', '177')]\n"
     ]
    }
   ],
   "source": [
    "## Extraer datos de los rectangulos\n",
    "import re\n",
    "\n",
    "archivo = open('image1.xml','r')\n",
    "texto = archivo.read()\n",
    "\n",
    "patronCaja = re.compile('bndbox')\n",
    "resultados = patronCaja.finditer(texto)\n",
    "resultados = [_ for _ in resultados]\n",
    "\n",
    "contenedores = []\n",
    "\n",
    "while(resultados):\n",
    "    inicio = resultados.pop(0).span()[0]\n",
    "    fin = resultados.pop(0).span()[1]\n",
    "    contenedores.append((inicio, fin))\n",
    "\n",
    "\n",
    "rectangulos = []\n",
    "for contenedor in contenedores:\n",
    "    (inicio, fin) = contenedor\n",
    "    lugarDeBusqueda = texto[inicio:fin]\n",
    "    patronxmin = re.search(r'<xmin>\\d{1,}<\\/xmin>',lugarDeBusqueda)\n",
    "    patronxminNumero = re.search(r'\\d{1,}', patronxmin.group())\n",
    "    xmin = patronxminNumero.group()\n",
    "    patronymin = re.search(r'<ymin>\\d{1,}<\\/ymin>',lugarDeBusqueda)\n",
    "    patronyminNumero = re.search(r'\\d{1,}', patronymin.group())\n",
    "    ymin = patronyminNumero.group()\n",
    "    patronxmax = re.search(r'<xmax>\\d{1,}<\\/xmax>',lugarDeBusqueda)\n",
    "    patronxmaxNumero = re.search(r'\\d{1,}', patronxmax.group())\n",
    "    xmax = patronxmaxNumero.group()\n",
    "    patronymax = re.search(r'<ymax>\\d{1,}<\\/ymax>',lugarDeBusqueda)\n",
    "    patronymaxNumero = re.search(r'\\d{1,}', patronymax.group())\n",
    "    ymax = patronymaxNumero.group()\n",
    "    rectangulos.append( (xmin, ymin, xmax, ymax) )\n",
    "\n",
    "\n",
    "    print(rectangulos)"
   ]
  },
  {
   "cell_type": "code",
   "execution_count": 2,
   "metadata": {},
   "outputs": [],
   "source": [
    "%matplotlib inline\n",
    "import numpy as np\n",
    "import cv2\n",
    "from matplotlib import pyplot as plt\n",
    "from skimage.draw import rectangle\n",
    "\n",
    "esquinas = rectangulos[0]\n",
    "imagen = cv2.imread(\"image1.png\")\n",
    "image = np.zeros(imagen.shape)\n",
    "\n",
    "rr, cc = rectangle(300, 350, 100, 220)\n"
   ]
  },
  {
   "cell_type": "code",
   "execution_count": null,
   "metadata": {},
   "outputs": [],
   "source": []
  }
 ],
 "metadata": {
  "kernelspec": {
   "display_name": "Python 3",
   "language": "python",
   "name": "python3"
  },
  "language_info": {
   "codemirror_mode": {
    "name": "ipython",
    "version": 3
   },
   "file_extension": ".py",
   "mimetype": "text/x-python",
   "name": "python",
   "nbconvert_exporter": "python",
   "pygments_lexer": "ipython3",
   "version": "3.7.3"
  }
 },
 "nbformat": 4,
 "nbformat_minor": 2
}
